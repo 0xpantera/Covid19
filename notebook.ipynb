{
 "cells": [
  {
   "cell_type": "markdown",
   "metadata": {},
   "source": [
    "# Covid 19 Cases and Death\n",
    "## Data Setup\n",
    "Our data comes from [Our World in Data](https://ourworldindata.org/coronavirus-source-data).\n",
    "We use two feeds, the population feed and the all-four-metrics feed.\n",
    "\n",
    "### Packages\n",
    "\n",
    "* Covid19.jl loads, scrubs and joins the Covid19 case and population data into one dataframe\n",
    "* DataFrames for representation of tabular data\n",
    "* Query for support of piped query interface"
   ]
  },
  {
   "cell_type": "code",
   "execution_count": 1,
   "metadata": {},
   "outputs": [
    {
     "name": "stderr",
     "output_type": "stream",
     "text": [
      "┌ Info: Precompiling Covid19 [f23bf58e-1236-4611-95b0-5d9c7f5cb6e2]\n",
      "└ @ Base loading.jl:1278\n"
     ]
    },
    {
     "data": {
      "text/plain": [
       "180"
      ]
     },
     "execution_count": 1,
     "metadata": {},
     "output_type": "execute_result"
    }
   ],
   "source": [
    "using Covid19, DataFrames, Query\n",
    "ENV[\"COLUMNS\"] = 180"
   ]
  },
  {
   "cell_type": "markdown",
   "metadata": {},
   "source": [
    "## Data\n",
    "This is an example data frame that shows the use of our toolset.\n",
    "* We start with the data for cases\n",
    "* Then we choose the columns we want\n",
    "* Then we filter by the country with the first cases so we'll see data\n",
    "* Finally we pipe to a dataframe so we'll keep the data that way."
   ]
  },
  {
   "cell_type": "code",
   "execution_count": 2,
   "metadata": {
    "collapsed": true,
    "jupyter": {
     "outputs_hidden": true
    }
   },
   "outputs": [
    {
     "data": {
      "text/html": [
       "<table class=\"data-frame\"><thead><tr><th></th><th>location</th><th>population</th><th>date</th><th>new_cases</th><th>new_deaths</th><th>total_cases</th><th>total_deaths</th></tr><tr><th></th><th>String</th><th>Int64?</th><th>Date…</th><th>Float64</th><th>Float64</th><th>Float64</th><th>Float64</th></tr></thead><tbody><p>335 rows × 7 columns</p><tr><th>1</th><td>China</td><td>1439323774</td><td>2019-12-31</td><td>27.0</td><td>0.0</td><td>27.0</td><td>0.0</td></tr><tr><th>2</th><td>China</td><td>1439323774</td><td>2020-01-01</td><td>0.0</td><td>0.0</td><td>27.0</td><td>0.0</td></tr><tr><th>3</th><td>China</td><td>1439323774</td><td>2020-01-02</td><td>0.0</td><td>0.0</td><td>27.0</td><td>0.0</td></tr><tr><th>4</th><td>China</td><td>1439323774</td><td>2020-01-03</td><td>17.0</td><td>0.0</td><td>44.0</td><td>0.0</td></tr><tr><th>5</th><td>China</td><td>1439323774</td><td>2020-01-04</td><td>0.0</td><td>0.0</td><td>44.0</td><td>0.0</td></tr><tr><th>6</th><td>China</td><td>1439323774</td><td>2020-01-05</td><td>15.0</td><td>0.0</td><td>59.0</td><td>0.0</td></tr><tr><th>7</th><td>China</td><td>1439323774</td><td>2020-01-06</td><td>0.0</td><td>0.0</td><td>59.0</td><td>0.0</td></tr><tr><th>8</th><td>China</td><td>1439323774</td><td>2020-01-07</td><td>0.0</td><td>0.0</td><td>59.0</td><td>0.0</td></tr><tr><th>9</th><td>China</td><td>1439323774</td><td>2020-01-08</td><td>0.0</td><td>0.0</td><td>59.0</td><td>0.0</td></tr><tr><th>10</th><td>China</td><td>1439323774</td><td>2020-01-09</td><td>0.0</td><td>0.0</td><td>59.0</td><td>0.0</td></tr><tr><th>11</th><td>China</td><td>1439323774</td><td>2020-01-10</td><td>0.0</td><td>0.0</td><td>59.0</td><td>0.0</td></tr><tr><th>12</th><td>China</td><td>1439323774</td><td>2020-01-11</td><td>0.0</td><td>1.0</td><td>59.0</td><td>1.0</td></tr><tr><th>13</th><td>China</td><td>1439323774</td><td>2020-01-12</td><td>0.0</td><td>0.0</td><td>59.0</td><td>1.0</td></tr><tr><th>14</th><td>China</td><td>1439323774</td><td>2020-01-13</td><td>0.0</td><td>0.0</td><td>59.0</td><td>1.0</td></tr><tr><th>15</th><td>China</td><td>1439323774</td><td>2020-01-14</td><td>0.0</td><td>0.0</td><td>59.0</td><td>1.0</td></tr><tr><th>16</th><td>China</td><td>1439323774</td><td>2020-01-15</td><td>0.0</td><td>1.0</td><td>59.0</td><td>2.0</td></tr><tr><th>17</th><td>China</td><td>1439323774</td><td>2020-01-16</td><td>0.0</td><td>0.0</td><td>59.0</td><td>2.0</td></tr><tr><th>18</th><td>China</td><td>1439323774</td><td>2020-01-17</td><td>4.0</td><td>0.0</td><td>63.0</td><td>2.0</td></tr><tr><th>19</th><td>China</td><td>1439323774</td><td>2020-01-18</td><td>17.0</td><td>0.0</td><td>80.0</td><td>2.0</td></tr><tr><th>20</th><td>China</td><td>1439323774</td><td>2020-01-19</td><td>136.0</td><td>1.0</td><td>216.0</td><td>3.0</td></tr><tr><th>21</th><td>China</td><td>1439323774</td><td>2020-01-20</td><td>19.0</td><td>0.0</td><td>235.0</td><td>3.0</td></tr><tr><th>22</th><td>China</td><td>1439323774</td><td>2020-01-21</td><td>151.0</td><td>3.0</td><td>386.0</td><td>6.0</td></tr><tr><th>23</th><td>China</td><td>1439323774</td><td>2020-01-22</td><td>140.0</td><td>11.0</td><td>526.0</td><td>17.0</td></tr><tr><th>24</th><td>China</td><td>1439323774</td><td>2020-01-23</td><td>97.0</td><td>0.0</td><td>623.0</td><td>17.0</td></tr><tr><th>25</th><td>China</td><td>1439323774</td><td>2020-01-24</td><td>259.0</td><td>9.0</td><td>882.0</td><td>26.0</td></tr><tr><th>26</th><td>China</td><td>1439323774</td><td>2020-01-25</td><td>441.0</td><td>15.0</td><td>1323.0</td><td>41.0</td></tr><tr><th>27</th><td>China</td><td>1439323774</td><td>2020-01-26</td><td>665.0</td><td>15.0</td><td>1988.0</td><td>56.0</td></tr><tr><th>28</th><td>China</td><td>1439323774</td><td>2020-01-27</td><td>787.0</td><td>25.0</td><td>2775.0</td><td>81.0</td></tr><tr><th>29</th><td>China</td><td>1439323774</td><td>2020-01-28</td><td>1753.0</td><td>25.0</td><td>4528.0</td><td>106.0</td></tr><tr><th>30</th><td>China</td><td>1439323774</td><td>2020-01-29</td><td>1466.0</td><td>26.0</td><td>5994.0</td><td>132.0</td></tr><tr><th>&vellip;</th><td>&vellip;</td><td>&vellip;</td><td>&vellip;</td><td>&vellip;</td><td>&vellip;</td><td>&vellip;</td><td>&vellip;</td></tr></tbody></table>"
      ],
      "text/latex": [
       "\\begin{tabular}{r|ccccccc}\n",
       "\t& location & population & date & new\\_cases & new\\_deaths & total\\_cases & total\\_deaths\\\\\n",
       "\t\\hline\n",
       "\t& String & Int64? & Date… & Float64 & Float64 & Float64 & Float64\\\\\n",
       "\t\\hline\n",
       "\t1 & China & 1439323774 & 2019-12-31 & 27.0 & 0.0 & 27.0 & 0.0 \\\\\n",
       "\t2 & China & 1439323774 & 2020-01-01 & 0.0 & 0.0 & 27.0 & 0.0 \\\\\n",
       "\t3 & China & 1439323774 & 2020-01-02 & 0.0 & 0.0 & 27.0 & 0.0 \\\\\n",
       "\t4 & China & 1439323774 & 2020-01-03 & 17.0 & 0.0 & 44.0 & 0.0 \\\\\n",
       "\t5 & China & 1439323774 & 2020-01-04 & 0.0 & 0.0 & 44.0 & 0.0 \\\\\n",
       "\t6 & China & 1439323774 & 2020-01-05 & 15.0 & 0.0 & 59.0 & 0.0 \\\\\n",
       "\t7 & China & 1439323774 & 2020-01-06 & 0.0 & 0.0 & 59.0 & 0.0 \\\\\n",
       "\t8 & China & 1439323774 & 2020-01-07 & 0.0 & 0.0 & 59.0 & 0.0 \\\\\n",
       "\t9 & China & 1439323774 & 2020-01-08 & 0.0 & 0.0 & 59.0 & 0.0 \\\\\n",
       "\t10 & China & 1439323774 & 2020-01-09 & 0.0 & 0.0 & 59.0 & 0.0 \\\\\n",
       "\t11 & China & 1439323774 & 2020-01-10 & 0.0 & 0.0 & 59.0 & 0.0 \\\\\n",
       "\t12 & China & 1439323774 & 2020-01-11 & 0.0 & 1.0 & 59.0 & 1.0 \\\\\n",
       "\t13 & China & 1439323774 & 2020-01-12 & 0.0 & 0.0 & 59.0 & 1.0 \\\\\n",
       "\t14 & China & 1439323774 & 2020-01-13 & 0.0 & 0.0 & 59.0 & 1.0 \\\\\n",
       "\t15 & China & 1439323774 & 2020-01-14 & 0.0 & 0.0 & 59.0 & 1.0 \\\\\n",
       "\t16 & China & 1439323774 & 2020-01-15 & 0.0 & 1.0 & 59.0 & 2.0 \\\\\n",
       "\t17 & China & 1439323774 & 2020-01-16 & 0.0 & 0.0 & 59.0 & 2.0 \\\\\n",
       "\t18 & China & 1439323774 & 2020-01-17 & 4.0 & 0.0 & 63.0 & 2.0 \\\\\n",
       "\t19 & China & 1439323774 & 2020-01-18 & 17.0 & 0.0 & 80.0 & 2.0 \\\\\n",
       "\t20 & China & 1439323774 & 2020-01-19 & 136.0 & 1.0 & 216.0 & 3.0 \\\\\n",
       "\t21 & China & 1439323774 & 2020-01-20 & 19.0 & 0.0 & 235.0 & 3.0 \\\\\n",
       "\t22 & China & 1439323774 & 2020-01-21 & 151.0 & 3.0 & 386.0 & 6.0 \\\\\n",
       "\t23 & China & 1439323774 & 2020-01-22 & 140.0 & 11.0 & 526.0 & 17.0 \\\\\n",
       "\t24 & China & 1439323774 & 2020-01-23 & 97.0 & 0.0 & 623.0 & 17.0 \\\\\n",
       "\t25 & China & 1439323774 & 2020-01-24 & 259.0 & 9.0 & 882.0 & 26.0 \\\\\n",
       "\t26 & China & 1439323774 & 2020-01-25 & 441.0 & 15.0 & 1323.0 & 41.0 \\\\\n",
       "\t27 & China & 1439323774 & 2020-01-26 & 665.0 & 15.0 & 1988.0 & 56.0 \\\\\n",
       "\t28 & China & 1439323774 & 2020-01-27 & 787.0 & 25.0 & 2775.0 & 81.0 \\\\\n",
       "\t29 & China & 1439323774 & 2020-01-28 & 1753.0 & 25.0 & 4528.0 & 106.0 \\\\\n",
       "\t30 & China & 1439323774 & 2020-01-29 & 1466.0 & 26.0 & 5994.0 & 132.0 \\\\\n",
       "\t$\\dots$ & $\\dots$ & $\\dots$ & $\\dots$ & $\\dots$ & $\\dots$ & $\\dots$ & $\\dots$ \\\\\n",
       "\\end{tabular}\n"
      ],
      "text/plain": [
       "\u001b[1m335×7 DataFrame\u001b[0m\n",
       "\u001b[1m Row \u001b[0m│\u001b[1m location \u001b[0m\u001b[1m population \u001b[0m\u001b[1m date       \u001b[0m\u001b[1m new_cases \u001b[0m\u001b[1m new_deaths \u001b[0m\u001b[1m total_cases \u001b[0m\u001b[1m total_deaths \u001b[0m\n",
       "\u001b[1m     \u001b[0m│\u001b[90m String   \u001b[0m\u001b[90m Int64?     \u001b[0m\u001b[90m Date…      \u001b[0m\u001b[90m Float64   \u001b[0m\u001b[90m Float64    \u001b[0m\u001b[90m Float64     \u001b[0m\u001b[90m Float64      \u001b[0m\n",
       "─────┼────────────────────────────────────────────────────────────────────────────────────\n",
       "   1 │ China     1439323774  2019-12-31       27.0         0.0         27.0           0.0\n",
       "   2 │ China     1439323774  2020-01-01        0.0         0.0         27.0           0.0\n",
       "   3 │ China     1439323774  2020-01-02        0.0         0.0         27.0           0.0\n",
       "   4 │ China     1439323774  2020-01-03       17.0         0.0         44.0           0.0\n",
       "   5 │ China     1439323774  2020-01-04        0.0         0.0         44.0           0.0\n",
       "   6 │ China     1439323774  2020-01-05       15.0         0.0         59.0           0.0\n",
       "   7 │ China     1439323774  2020-01-06        0.0         0.0         59.0           0.0\n",
       "   8 │ China     1439323774  2020-01-07        0.0         0.0         59.0           0.0\n",
       "   9 │ China     1439323774  2020-01-08        0.0         0.0         59.0           0.0\n",
       "  10 │ China     1439323774  2020-01-09        0.0         0.0         59.0           0.0\n",
       "  11 │ China     1439323774  2020-01-10        0.0         0.0         59.0           0.0\n",
       "  ⋮  │    ⋮          ⋮           ⋮           ⋮          ⋮            ⋮            ⋮\n",
       " 326 │ China     1439323774  2020-11-20       17.0         0.0      91688.0        4739.0\n",
       " 327 │ China     1439323774  2020-11-21       16.0         0.0      91704.0        4739.0\n",
       " 328 │ China     1439323774  2020-11-22       16.0         0.0      91720.0        4739.0\n",
       " 329 │ China     1439323774  2020-11-23       11.0         0.0      91731.0        4739.0\n",
       " 330 │ China     1439323774  2020-11-24       22.0         0.0      91753.0        4739.0\n",
       " 331 │ China     1439323774  2020-11-25        5.0         0.0      91758.0        4739.0\n",
       " 332 │ China     1439323774  2020-11-26       21.0         0.0      91779.0        4739.0\n",
       " 333 │ China     1439323774  2020-11-27        5.0         0.0      91784.0        4739.0\n",
       " 334 │ China     1439323774  2020-11-28        6.0         0.0      91790.0        4739.0\n",
       " 335 │ China     1439323774  2020-11-29        6.0         0.0      91796.0        4739.0\n",
       "\u001b[31m                                                                          314 rows omitted\u001b[0m"
      ]
     },
     "execution_count": 2,
     "metadata": {},
     "output_type": "execute_result"
    }
   ],
   "source": [
    "cases = data() |>\n",
    "        @select(:location, :population, :date, :new_cases,\n",
    "                :new_deaths, :total_cases, :total_deaths) |>\n",
    "        @filter(_.location == \"China\") |>\n",
    "        DataFrame"
   ]
  },
  {
   "cell_type": "markdown",
   "metadata": {},
   "source": [
    "### Show all the data for the USA"
   ]
  },
  {
   "cell_type": "code",
   "execution_count": 3,
   "metadata": {
    "collapsed": true,
    "jupyter": {
     "outputs_hidden": true
    }
   },
   "outputs": [
    {
     "data": {
      "text/html": [
       "<table class=\"data-frame\"><thead><tr><th></th><th>date</th><th>location</th><th>new_cases</th><th>new_deaths</th><th>total_cases</th><th>total_deaths</th><th>weekly_cases</th><th>weekly_deaths</th><th>biweekly_cases</th><th>biweekly_deaths</th><th>countriesAndTerritories</th><th>continent</th><th>population_year</th></tr><tr><th></th><th>Date…</th><th>String</th><th>Float64</th><th>Float64</th><th>Float64</th><th>Float64</th><th>Float64</th><th>Float64</th><th>Float64</th><th>Float64</th><th>String</th><th>String?</th><th>Int64?</th></tr></thead><tbody><p>59,354 rows × 14 columns (omitted printing of 1 columns)</p><tr><th>1</th><td>2019-12-31</td><td>Afghanistan</td><td>0.0</td><td>0.0</td><td>0.0</td><td>0.0</td><td>0.0</td><td>0.0</td><td>0.0</td><td>0.0</td><td>Afghanistan</td><td>Asia</td><td>2020</td></tr><tr><th>2</th><td>2020-01-01</td><td>Afghanistan</td><td>0.0</td><td>0.0</td><td>0.0</td><td>0.0</td><td>0.0</td><td>0.0</td><td>0.0</td><td>0.0</td><td>Afghanistan</td><td>Asia</td><td>2020</td></tr><tr><th>3</th><td>2020-01-02</td><td>Afghanistan</td><td>0.0</td><td>0.0</td><td>0.0</td><td>0.0</td><td>0.0</td><td>0.0</td><td>0.0</td><td>0.0</td><td>Afghanistan</td><td>Asia</td><td>2020</td></tr><tr><th>4</th><td>2020-01-03</td><td>Afghanistan</td><td>0.0</td><td>0.0</td><td>0.0</td><td>0.0</td><td>0.0</td><td>0.0</td><td>0.0</td><td>0.0</td><td>Afghanistan</td><td>Asia</td><td>2020</td></tr><tr><th>5</th><td>2020-01-04</td><td>Afghanistan</td><td>0.0</td><td>0.0</td><td>0.0</td><td>0.0</td><td>0.0</td><td>0.0</td><td>0.0</td><td>0.0</td><td>Afghanistan</td><td>Asia</td><td>2020</td></tr><tr><th>6</th><td>2020-01-05</td><td>Afghanistan</td><td>0.0</td><td>0.0</td><td>0.0</td><td>0.0</td><td>0.0</td><td>0.0</td><td>0.0</td><td>0.0</td><td>Afghanistan</td><td>Asia</td><td>2020</td></tr><tr><th>7</th><td>2020-01-06</td><td>Afghanistan</td><td>0.0</td><td>0.0</td><td>0.0</td><td>0.0</td><td>0.0</td><td>0.0</td><td>0.0</td><td>0.0</td><td>Afghanistan</td><td>Asia</td><td>2020</td></tr><tr><th>8</th><td>2020-01-07</td><td>Afghanistan</td><td>0.0</td><td>0.0</td><td>0.0</td><td>0.0</td><td>0.0</td><td>0.0</td><td>0.0</td><td>0.0</td><td>Afghanistan</td><td>Asia</td><td>2020</td></tr><tr><th>9</th><td>2020-01-08</td><td>Afghanistan</td><td>0.0</td><td>0.0</td><td>0.0</td><td>0.0</td><td>0.0</td><td>0.0</td><td>0.0</td><td>0.0</td><td>Afghanistan</td><td>Asia</td><td>2020</td></tr><tr><th>10</th><td>2020-01-09</td><td>Afghanistan</td><td>0.0</td><td>0.0</td><td>0.0</td><td>0.0</td><td>0.0</td><td>0.0</td><td>0.0</td><td>0.0</td><td>Afghanistan</td><td>Asia</td><td>2020</td></tr><tr><th>11</th><td>2020-01-10</td><td>Afghanistan</td><td>0.0</td><td>0.0</td><td>0.0</td><td>0.0</td><td>0.0</td><td>0.0</td><td>0.0</td><td>0.0</td><td>Afghanistan</td><td>Asia</td><td>2020</td></tr><tr><th>12</th><td>2020-01-11</td><td>Afghanistan</td><td>0.0</td><td>0.0</td><td>0.0</td><td>0.0</td><td>0.0</td><td>0.0</td><td>0.0</td><td>0.0</td><td>Afghanistan</td><td>Asia</td><td>2020</td></tr><tr><th>13</th><td>2020-01-12</td><td>Afghanistan</td><td>0.0</td><td>0.0</td><td>0.0</td><td>0.0</td><td>0.0</td><td>0.0</td><td>0.0</td><td>0.0</td><td>Afghanistan</td><td>Asia</td><td>2020</td></tr><tr><th>14</th><td>2020-01-13</td><td>Afghanistan</td><td>0.0</td><td>0.0</td><td>0.0</td><td>0.0</td><td>0.0</td><td>0.0</td><td>0.0</td><td>0.0</td><td>Afghanistan</td><td>Asia</td><td>2020</td></tr><tr><th>15</th><td>2020-01-14</td><td>Afghanistan</td><td>0.0</td><td>0.0</td><td>0.0</td><td>0.0</td><td>0.0</td><td>0.0</td><td>0.0</td><td>0.0</td><td>Afghanistan</td><td>Asia</td><td>2020</td></tr><tr><th>16</th><td>2020-01-15</td><td>Afghanistan</td><td>0.0</td><td>0.0</td><td>0.0</td><td>0.0</td><td>0.0</td><td>0.0</td><td>0.0</td><td>0.0</td><td>Afghanistan</td><td>Asia</td><td>2020</td></tr><tr><th>17</th><td>2020-01-16</td><td>Afghanistan</td><td>0.0</td><td>0.0</td><td>0.0</td><td>0.0</td><td>0.0</td><td>0.0</td><td>0.0</td><td>0.0</td><td>Afghanistan</td><td>Asia</td><td>2020</td></tr><tr><th>18</th><td>2020-01-17</td><td>Afghanistan</td><td>0.0</td><td>0.0</td><td>0.0</td><td>0.0</td><td>0.0</td><td>0.0</td><td>0.0</td><td>0.0</td><td>Afghanistan</td><td>Asia</td><td>2020</td></tr><tr><th>19</th><td>2020-01-18</td><td>Afghanistan</td><td>0.0</td><td>0.0</td><td>0.0</td><td>0.0</td><td>0.0</td><td>0.0</td><td>0.0</td><td>0.0</td><td>Afghanistan</td><td>Asia</td><td>2020</td></tr><tr><th>20</th><td>2020-01-19</td><td>Afghanistan</td><td>0.0</td><td>0.0</td><td>0.0</td><td>0.0</td><td>0.0</td><td>0.0</td><td>0.0</td><td>0.0</td><td>Afghanistan</td><td>Asia</td><td>2020</td></tr><tr><th>21</th><td>2020-01-20</td><td>Afghanistan</td><td>0.0</td><td>0.0</td><td>0.0</td><td>0.0</td><td>0.0</td><td>0.0</td><td>0.0</td><td>0.0</td><td>Afghanistan</td><td>Asia</td><td>2020</td></tr><tr><th>22</th><td>2020-01-21</td><td>Afghanistan</td><td>0.0</td><td>0.0</td><td>0.0</td><td>0.0</td><td>0.0</td><td>0.0</td><td>0.0</td><td>0.0</td><td>Afghanistan</td><td>Asia</td><td>2020</td></tr><tr><th>23</th><td>2020-01-22</td><td>Afghanistan</td><td>0.0</td><td>0.0</td><td>0.0</td><td>0.0</td><td>0.0</td><td>0.0</td><td>0.0</td><td>0.0</td><td>Afghanistan</td><td>Asia</td><td>2020</td></tr><tr><th>24</th><td>2020-01-23</td><td>Afghanistan</td><td>0.0</td><td>0.0</td><td>0.0</td><td>0.0</td><td>0.0</td><td>0.0</td><td>0.0</td><td>0.0</td><td>Afghanistan</td><td>Asia</td><td>2020</td></tr><tr><th>25</th><td>2020-01-24</td><td>Afghanistan</td><td>0.0</td><td>0.0</td><td>0.0</td><td>0.0</td><td>0.0</td><td>0.0</td><td>0.0</td><td>0.0</td><td>Afghanistan</td><td>Asia</td><td>2020</td></tr><tr><th>26</th><td>2020-01-25</td><td>Afghanistan</td><td>0.0</td><td>0.0</td><td>0.0</td><td>0.0</td><td>0.0</td><td>0.0</td><td>0.0</td><td>0.0</td><td>Afghanistan</td><td>Asia</td><td>2020</td></tr><tr><th>27</th><td>2020-01-26</td><td>Afghanistan</td><td>0.0</td><td>0.0</td><td>0.0</td><td>0.0</td><td>0.0</td><td>0.0</td><td>0.0</td><td>0.0</td><td>Afghanistan</td><td>Asia</td><td>2020</td></tr><tr><th>28</th><td>2020-01-27</td><td>Afghanistan</td><td>0.0</td><td>0.0</td><td>0.0</td><td>0.0</td><td>0.0</td><td>0.0</td><td>0.0</td><td>0.0</td><td>Afghanistan</td><td>Asia</td><td>2020</td></tr><tr><th>29</th><td>2020-01-28</td><td>Afghanistan</td><td>0.0</td><td>0.0</td><td>0.0</td><td>0.0</td><td>0.0</td><td>0.0</td><td>0.0</td><td>0.0</td><td>Afghanistan</td><td>Asia</td><td>2020</td></tr><tr><th>30</th><td>2020-01-29</td><td>Afghanistan</td><td>0.0</td><td>0.0</td><td>0.0</td><td>0.0</td><td>0.0</td><td>0.0</td><td>0.0</td><td>0.0</td><td>Afghanistan</td><td>Asia</td><td>2020</td></tr><tr><th>&vellip;</th><td>&vellip;</td><td>&vellip;</td><td>&vellip;</td><td>&vellip;</td><td>&vellip;</td><td>&vellip;</td><td>&vellip;</td><td>&vellip;</td><td>&vellip;</td><td>&vellip;</td><td>&vellip;</td><td>&vellip;</td><td>&vellip;</td></tr></tbody></table>"
      ],
      "text/latex": [
       "\\begin{tabular}{r|cccccccccccccc}\n",
       "\t& date & location & new\\_cases & new\\_deaths & total\\_cases & total\\_deaths & weekly\\_cases & weekly\\_deaths & biweekly\\_cases & biweekly\\_deaths & countriesAndTerritories & continent & population\\_year & \\\\\n",
       "\t\\hline\n",
       "\t& Date… & String & Float64 & Float64 & Float64 & Float64 & Float64 & Float64 & Float64 & Float64 & String & String? & Int64? & \\\\\n",
       "\t\\hline\n",
       "\t1 & 2019-12-31 & Afghanistan & 0.0 & 0.0 & 0.0 & 0.0 & 0.0 & 0.0 & 0.0 & 0.0 & Afghanistan & Asia & 2020 & $\\dots$ \\\\\n",
       "\t2 & 2020-01-01 & Afghanistan & 0.0 & 0.0 & 0.0 & 0.0 & 0.0 & 0.0 & 0.0 & 0.0 & Afghanistan & Asia & 2020 & $\\dots$ \\\\\n",
       "\t3 & 2020-01-02 & Afghanistan & 0.0 & 0.0 & 0.0 & 0.0 & 0.0 & 0.0 & 0.0 & 0.0 & Afghanistan & Asia & 2020 & $\\dots$ \\\\\n",
       "\t4 & 2020-01-03 & Afghanistan & 0.0 & 0.0 & 0.0 & 0.0 & 0.0 & 0.0 & 0.0 & 0.0 & Afghanistan & Asia & 2020 & $\\dots$ \\\\\n",
       "\t5 & 2020-01-04 & Afghanistan & 0.0 & 0.0 & 0.0 & 0.0 & 0.0 & 0.0 & 0.0 & 0.0 & Afghanistan & Asia & 2020 & $\\dots$ \\\\\n",
       "\t6 & 2020-01-05 & Afghanistan & 0.0 & 0.0 & 0.0 & 0.0 & 0.0 & 0.0 & 0.0 & 0.0 & Afghanistan & Asia & 2020 & $\\dots$ \\\\\n",
       "\t7 & 2020-01-06 & Afghanistan & 0.0 & 0.0 & 0.0 & 0.0 & 0.0 & 0.0 & 0.0 & 0.0 & Afghanistan & Asia & 2020 & $\\dots$ \\\\\n",
       "\t8 & 2020-01-07 & Afghanistan & 0.0 & 0.0 & 0.0 & 0.0 & 0.0 & 0.0 & 0.0 & 0.0 & Afghanistan & Asia & 2020 & $\\dots$ \\\\\n",
       "\t9 & 2020-01-08 & Afghanistan & 0.0 & 0.0 & 0.0 & 0.0 & 0.0 & 0.0 & 0.0 & 0.0 & Afghanistan & Asia & 2020 & $\\dots$ \\\\\n",
       "\t10 & 2020-01-09 & Afghanistan & 0.0 & 0.0 & 0.0 & 0.0 & 0.0 & 0.0 & 0.0 & 0.0 & Afghanistan & Asia & 2020 & $\\dots$ \\\\\n",
       "\t11 & 2020-01-10 & Afghanistan & 0.0 & 0.0 & 0.0 & 0.0 & 0.0 & 0.0 & 0.0 & 0.0 & Afghanistan & Asia & 2020 & $\\dots$ \\\\\n",
       "\t12 & 2020-01-11 & Afghanistan & 0.0 & 0.0 & 0.0 & 0.0 & 0.0 & 0.0 & 0.0 & 0.0 & Afghanistan & Asia & 2020 & $\\dots$ \\\\\n",
       "\t13 & 2020-01-12 & Afghanistan & 0.0 & 0.0 & 0.0 & 0.0 & 0.0 & 0.0 & 0.0 & 0.0 & Afghanistan & Asia & 2020 & $\\dots$ \\\\\n",
       "\t14 & 2020-01-13 & Afghanistan & 0.0 & 0.0 & 0.0 & 0.0 & 0.0 & 0.0 & 0.0 & 0.0 & Afghanistan & Asia & 2020 & $\\dots$ \\\\\n",
       "\t15 & 2020-01-14 & Afghanistan & 0.0 & 0.0 & 0.0 & 0.0 & 0.0 & 0.0 & 0.0 & 0.0 & Afghanistan & Asia & 2020 & $\\dots$ \\\\\n",
       "\t16 & 2020-01-15 & Afghanistan & 0.0 & 0.0 & 0.0 & 0.0 & 0.0 & 0.0 & 0.0 & 0.0 & Afghanistan & Asia & 2020 & $\\dots$ \\\\\n",
       "\t17 & 2020-01-16 & Afghanistan & 0.0 & 0.0 & 0.0 & 0.0 & 0.0 & 0.0 & 0.0 & 0.0 & Afghanistan & Asia & 2020 & $\\dots$ \\\\\n",
       "\t18 & 2020-01-17 & Afghanistan & 0.0 & 0.0 & 0.0 & 0.0 & 0.0 & 0.0 & 0.0 & 0.0 & Afghanistan & Asia & 2020 & $\\dots$ \\\\\n",
       "\t19 & 2020-01-18 & Afghanistan & 0.0 & 0.0 & 0.0 & 0.0 & 0.0 & 0.0 & 0.0 & 0.0 & Afghanistan & Asia & 2020 & $\\dots$ \\\\\n",
       "\t20 & 2020-01-19 & Afghanistan & 0.0 & 0.0 & 0.0 & 0.0 & 0.0 & 0.0 & 0.0 & 0.0 & Afghanistan & Asia & 2020 & $\\dots$ \\\\\n",
       "\t21 & 2020-01-20 & Afghanistan & 0.0 & 0.0 & 0.0 & 0.0 & 0.0 & 0.0 & 0.0 & 0.0 & Afghanistan & Asia & 2020 & $\\dots$ \\\\\n",
       "\t22 & 2020-01-21 & Afghanistan & 0.0 & 0.0 & 0.0 & 0.0 & 0.0 & 0.0 & 0.0 & 0.0 & Afghanistan & Asia & 2020 & $\\dots$ \\\\\n",
       "\t23 & 2020-01-22 & Afghanistan & 0.0 & 0.0 & 0.0 & 0.0 & 0.0 & 0.0 & 0.0 & 0.0 & Afghanistan & Asia & 2020 & $\\dots$ \\\\\n",
       "\t24 & 2020-01-23 & Afghanistan & 0.0 & 0.0 & 0.0 & 0.0 & 0.0 & 0.0 & 0.0 & 0.0 & Afghanistan & Asia & 2020 & $\\dots$ \\\\\n",
       "\t25 & 2020-01-24 & Afghanistan & 0.0 & 0.0 & 0.0 & 0.0 & 0.0 & 0.0 & 0.0 & 0.0 & Afghanistan & Asia & 2020 & $\\dots$ \\\\\n",
       "\t26 & 2020-01-25 & Afghanistan & 0.0 & 0.0 & 0.0 & 0.0 & 0.0 & 0.0 & 0.0 & 0.0 & Afghanistan & Asia & 2020 & $\\dots$ \\\\\n",
       "\t27 & 2020-01-26 & Afghanistan & 0.0 & 0.0 & 0.0 & 0.0 & 0.0 & 0.0 & 0.0 & 0.0 & Afghanistan & Asia & 2020 & $\\dots$ \\\\\n",
       "\t28 & 2020-01-27 & Afghanistan & 0.0 & 0.0 & 0.0 & 0.0 & 0.0 & 0.0 & 0.0 & 0.0 & Afghanistan & Asia & 2020 & $\\dots$ \\\\\n",
       "\t29 & 2020-01-28 & Afghanistan & 0.0 & 0.0 & 0.0 & 0.0 & 0.0 & 0.0 & 0.0 & 0.0 & Afghanistan & Asia & 2020 & $\\dots$ \\\\\n",
       "\t30 & 2020-01-29 & Afghanistan & 0.0 & 0.0 & 0.0 & 0.0 & 0.0 & 0.0 & 0.0 & 0.0 & Afghanistan & Asia & 2020 & $\\dots$ \\\\\n",
       "\t$\\dots$ & $\\dots$ & $\\dots$ & $\\dots$ & $\\dots$ & $\\dots$ & $\\dots$ & $\\dots$ & $\\dots$ & $\\dots$ & $\\dots$ & $\\dots$ & $\\dots$ & $\\dots$ &  \\\\\n",
       "\\end{tabular}\n"
      ],
      "text/plain": [
       "\u001b[1m59354×14 DataFrame\u001b[0m\n",
       "\u001b[1m   Row \u001b[0m│\u001b[1m date       \u001b[0m\u001b[1m location    \u001b[0m\u001b[1m new_cases \u001b[0m\u001b[1m new_deaths \u001b[0m\u001b[1m total_cases \u001b[0m\u001b[1m total_deaths \u001b[0m\u001b[1m weekly_cases \u001b[0m\u001b[1m weekly_deaths \u001b[0m\u001b[1m biweekly_cases \u001b[0m\u001b[1m biweekly_deaths \u001b[0m\u001b[1m countriesAndTerritories \u001b[0m\u001b[1m contine\u001b[0m ⋯\n",
       "\u001b[1m       \u001b[0m│\u001b[90m Date…      \u001b[0m\u001b[90m String      \u001b[0m\u001b[90m Float64   \u001b[0m\u001b[90m Float64    \u001b[0m\u001b[90m Float64     \u001b[0m\u001b[90m Float64      \u001b[0m\u001b[90m Float64      \u001b[0m\u001b[90m Float64       \u001b[0m\u001b[90m Float64        \u001b[0m\u001b[90m Float64         \u001b[0m\u001b[90m String                  \u001b[0m\u001b[90m String?\u001b[0m ⋯\n",
       "───────┼────────────────────────────────────────────────────────────────────────────────────────────────────────────────────────────────────────────────────────────────────────────\n",
       "     1 │ 2019-12-31  Afghanistan        0.0         0.0          0.0           0.0           0.0            0.0             0.0              0.0  Afghanistan              Asia    ⋯\n",
       "     2 │ 2020-01-01  Afghanistan        0.0         0.0          0.0           0.0           0.0            0.0             0.0              0.0  Afghanistan              Asia\n",
       "     3 │ 2020-01-02  Afghanistan        0.0         0.0          0.0           0.0           0.0            0.0             0.0              0.0  Afghanistan              Asia\n",
       "     4 │ 2020-01-03  Afghanistan        0.0         0.0          0.0           0.0           0.0            0.0             0.0              0.0  Afghanistan              Asia\n",
       "     5 │ 2020-01-04  Afghanistan        0.0         0.0          0.0           0.0           0.0            0.0             0.0              0.0  Afghanistan              Asia    ⋯\n",
       "     6 │ 2020-01-05  Afghanistan        0.0         0.0          0.0           0.0           0.0            0.0             0.0              0.0  Afghanistan              Asia\n",
       "     7 │ 2020-01-06  Afghanistan        0.0         0.0          0.0           0.0           0.0            0.0             0.0              0.0  Afghanistan              Asia\n",
       "     8 │ 2020-01-07  Afghanistan        0.0         0.0          0.0           0.0           0.0            0.0             0.0              0.0  Afghanistan              Asia\n",
       "     9 │ 2020-01-08  Afghanistan        0.0         0.0          0.0           0.0           0.0            0.0             0.0              0.0  Afghanistan              Asia    ⋯\n",
       "    10 │ 2020-01-09  Afghanistan        0.0         0.0          0.0           0.0           0.0            0.0             0.0              0.0  Afghanistan              Asia\n",
       "    11 │ 2020-01-10  Afghanistan        0.0         0.0          0.0           0.0           0.0            0.0             0.0              0.0  Afghanistan              Asia\n",
       "   ⋮   │     ⋮            ⋮           ⋮          ⋮            ⋮            ⋮             ⋮              ⋮              ⋮                ⋮                    ⋮                 ⋮   ⋱\n",
       " 59345 │ 2020-11-20  Zimbabwe          65.0         4.0       9046.0         265.0         350.0           10.0           602.0             17.0  Zimbabwe                 Africa\n",
       " 59346 │ 2020-11-21  Zimbabwe          74.0         0.0       9120.0         265.0         355.0            8.0           649.0             15.0  Zimbabwe                 Africa  ⋯\n",
       " 59347 │ 2020-11-22  Zimbabwe          52.0         0.0       9172.0         265.0         386.0            8.0           674.0             14.0  Zimbabwe                 Africa\n",
       " 59348 │ 2020-11-23  Zimbabwe          48.0         3.0       9220.0         268.0         434.0           11.0           689.0             15.0  Zimbabwe                 Africa\n",
       " 59349 │ 2020-11-24  Zimbabwe          88.0         5.0       9308.0         273.0         411.0           16.0           747.0             19.0  Zimbabwe                 Africa\n",
       " 59350 │ 2020-11-25  Zimbabwe          90.0         1.0       9398.0         274.0         453.0           14.0           788.0             19.0  Zimbabwe                 Africa  ⋯\n",
       " 59351 │ 2020-11-26  Zimbabwe         110.0         0.0       9508.0         274.0         527.0           13.0           841.0             19.0  Zimbabwe                 Africa\n",
       " 59352 │ 2020-11-27  Zimbabwe         115.0         0.0       9623.0         274.0         577.0            9.0           927.0             19.0  Zimbabwe                 Africa\n",
       " 59353 │ 2020-11-28  Zimbabwe          91.0         1.0       9714.0         275.0         594.0           10.0           949.0             18.0  Zimbabwe                 Africa\n",
       " 59354 │ 2020-11-29  Zimbabwe         108.0         0.0       9822.0         275.0         650.0           10.0          1036.0             18.0  Zimbabwe                 Africa  ⋯\n",
       "\u001b[31m                                                                                                                                                    3 columns and 59333 rows omitted\u001b[0m"
      ]
     },
     "execution_count": 3,
     "metadata": {},
     "output_type": "execute_result"
    }
   ],
   "source": [
    "df = data()"
   ]
  },
  {
   "cell_type": "code",
   "execution_count": 4,
   "metadata": {},
   "outputs": [
    {
     "data": {
      "text/plain": [
       "4-element Array{String,1}:\n",
       " \"United Arab Emirates\"\n",
       " \"United Kingdom\"\n",
       " \"United States\"\n",
       " \"United States Virgin Islands\""
      ]
     },
     "execution_count": 4,
     "metadata": {},
     "output_type": "execute_result"
    }
   ],
   "source": [
    "united_mask = df.location |> unique .|> startswith(\"United\")\n",
    "unique(df.location)[united_mask]"
   ]
  },
  {
   "cell_type": "code",
   "execution_count": 5,
   "metadata": {
    "collapsed": true,
    "jupyter": {
     "outputs_hidden": true
    }
   },
   "outputs": [
    {
     "data": {
      "application/vnd.dataresource+json": {
       "data": [
        {
         "location": "United States",
         "new_cases": 0,
         "population": 331002647
        },
        {
         "location": "United States",
         "new_cases": 0,
         "population": 331002647
        },
        {
         "location": "United States",
         "new_cases": 0,
         "population": 331002647
        },
        {
         "location": "United States",
         "new_cases": 0,
         "population": 331002647
        },
        {
         "location": "United States",
         "new_cases": 0,
         "population": 331002647
        },
        {
         "location": "United States",
         "new_cases": 0,
         "population": 331002647
        },
        {
         "location": "United States",
         "new_cases": 0,
         "population": 331002647
        },
        {
         "location": "United States",
         "new_cases": 0,
         "population": 331002647
        },
        {
         "location": "United States",
         "new_cases": 0,
         "population": 331002647
        },
        {
         "location": "United States",
         "new_cases": 0,
         "population": 331002647
        },
        {
         "location": "United States",
         "new_cases": 0,
         "population": 331002647
        },
        {
         "location": "United States",
         "new_cases": 0,
         "population": 331002647
        },
        {
         "location": "United States",
         "new_cases": 0,
         "population": 331002647
        },
        {
         "location": "United States",
         "new_cases": 0,
         "population": 331002647
        },
        {
         "location": "United States",
         "new_cases": 0,
         "population": 331002647
        },
        {
         "location": "United States",
         "new_cases": 0,
         "population": 331002647
        },
        {
         "location": "United States",
         "new_cases": 0,
         "population": 331002647
        },
        {
         "location": "United States",
         "new_cases": 0,
         "population": 331002647
        },
        {
         "location": "United States",
         "new_cases": 0,
         "population": 331002647
        },
        {
         "location": "United States",
         "new_cases": 0,
         "population": 331002647
        },
        {
         "location": "United States",
         "new_cases": 0,
         "population": 331002647
        },
        {
         "location": "United States",
         "new_cases": 1,
         "population": 331002647
        },
        {
         "location": "United States",
         "new_cases": 0,
         "population": 331002647
        },
        {
         "location": "United States",
         "new_cases": 0,
         "population": 331002647
        },
        {
         "location": "United States",
         "new_cases": 0,
         "population": 331002647
        },
        {
         "location": "United States",
         "new_cases": 1,
         "population": 331002647
        },
        {
         "location": "United States",
         "new_cases": 0,
         "population": 331002647
        },
        {
         "location": "United States",
         "new_cases": 3,
         "population": 331002647
        },
        {
         "location": "United States",
         "new_cases": 0,
         "population": 331002647
        },
        {
         "location": "United States",
         "new_cases": 0,
         "population": 331002647
        },
        {
         "location": "United States",
         "new_cases": 0,
         "population": 331002647
        },
        {
         "location": "United States",
         "new_cases": 1,
         "population": 331002647
        },
        {
         "location": "United States",
         "new_cases": 1,
         "population": 331002647
        },
        {
         "location": "United States",
         "new_cases": 1,
         "population": 331002647
        },
        {
         "location": "United States",
         "new_cases": 3,
         "population": 331002647
        },
        {
         "location": "United States",
         "new_cases": 0,
         "population": 331002647
        },
        {
         "location": "United States",
         "new_cases": 0,
         "population": 331002647
        },
        {
         "location": "United States",
         "new_cases": 1,
         "population": 331002647
        },
        {
         "location": "United States",
         "new_cases": 0,
         "population": 331002647
        },
        {
         "location": "United States",
         "new_cases": 0,
         "population": 331002647
        },
        {
         "location": "United States",
         "new_cases": 0,
         "population": 331002647
        },
        {
         "location": "United States",
         "new_cases": 0,
         "population": 331002647
        },
        {
         "location": "United States",
         "new_cases": 1,
         "population": 331002647
        },
        {
         "location": "United States",
         "new_cases": 0,
         "population": 331002647
        },
        {
         "location": "United States",
         "new_cases": 1,
         "population": 331002647
        },
        {
         "location": "United States",
         "new_cases": 1,
         "population": 331002647
        },
        {
         "location": "United States",
         "new_cases": 0,
         "population": 331002647
        },
        {
         "location": "United States",
         "new_cases": 0,
         "population": 331002647
        },
        {
         "location": "United States",
         "new_cases": 0,
         "population": 331002647
        },
        {
         "location": "United States",
         "new_cases": 0,
         "population": 331002647
        },
        {
         "location": "United States",
         "new_cases": 0,
         "population": 331002647
        },
        {
         "location": "United States",
         "new_cases": 0,
         "population": 331002647
        },
        {
         "location": "United States",
         "new_cases": 1,
         "population": 331002647
        },
        {
         "location": "United States",
         "new_cases": 19,
         "population": 331002647
        },
        {
         "location": "United States",
         "new_cases": 0,
         "population": 331002647
        },
        {
         "location": "United States",
         "new_cases": 0,
         "population": 331002647
        },
        {
         "location": "United States",
         "new_cases": 18,
         "population": 331002647
        },
        {
         "location": "United States",
         "new_cases": 0,
         "population": 331002647
        },
        {
         "location": "United States",
         "new_cases": 6,
         "population": 331002647
        },
        {
         "location": "United States",
         "new_cases": 1,
         "population": 331002647
        },
        {
         "location": "United States",
         "new_cases": 6,
         "population": 331002647
        },
        {
         "location": "United States",
         "new_cases": 3,
         "population": 331002647
        },
        {
         "location": "United States",
         "new_cases": 20,
         "population": 331002647
        },
        {
         "location": "United States",
         "new_cases": 14,
         "population": 331002647
        },
        {
         "location": "United States",
         "new_cases": 22,
         "population": 331002647
        },
        {
         "location": "United States",
         "new_cases": 34,
         "population": 331002647
        },
        {
         "location": "United States",
         "new_cases": 74,
         "population": 331002647
        },
        {
         "location": "United States",
         "new_cases": 105,
         "population": 331002647
        },
        {
         "location": "United States",
         "new_cases": 95,
         "population": 331002647
        },
        {
         "location": "United States",
         "new_cases": 121,
         "population": 331002647
        },
        {
         "location": "United States",
         "new_cases": 200,
         "population": 331002647
        },
        {
         "location": "United States",
         "new_cases": 271,
         "population": 331002647
        },
        {
         "location": "United States",
         "new_cases": 287,
         "population": 331002647
        },
        {
         "location": "United States",
         "new_cases": 351,
         "population": 331002647
        },
        {
         "location": "United States",
         "new_cases": 511,
         "population": 331002647
        },
        {
         "location": "United States",
         "new_cases": 777,
         "population": 331002647
        },
        {
         "location": "United States",
         "new_cases": 823,
         "population": 331002647
        },
        {
         "location": "United States",
         "new_cases": 887,
         "population": 331002647
        },
        {
         "location": "United States",
         "new_cases": 1766,
         "population": 331002647
        },
        {
         "location": "United States",
         "new_cases": 2988,
         "population": 331002647
        },
        {
         "location": "United States",
         "new_cases": 4835,
         "population": 331002647
        },
        {
         "location": "United States",
         "new_cases": 5374,
         "population": 331002647
        },
        {
         "location": "United States",
         "new_cases": 7123,
         "population": 331002647
        },
        {
         "location": "United States",
         "new_cases": 8459,
         "population": 331002647
        },
        {
         "location": "United States",
         "new_cases": 11236,
         "population": 331002647
        },
        {
         "location": "United States",
         "new_cases": 8789,
         "population": 331002647
        },
        {
         "location": "United States",
         "new_cases": 13963,
         "population": 331002647
        },
        {
         "location": "United States",
         "new_cases": 16797,
         "population": 331002647
        },
        {
         "location": "United States",
         "new_cases": 18695,
         "population": 331002647
        },
        {
         "location": "United States",
         "new_cases": 19979,
         "population": 331002647
        },
        {
         "location": "United States",
         "new_cases": 18360,
         "population": 331002647
        },
        {
         "location": "United States",
         "new_cases": 21595,
         "population": 331002647
        },
        {
         "location": "United States",
         "new_cases": 24998,
         "population": 331002647
        },
        {
         "location": "United States",
         "new_cases": 27103,
         "population": 331002647
        },
        {
         "location": "United States",
         "new_cases": 28819,
         "population": 331002647
        },
        {
         "location": "United States",
         "new_cases": 32425,
         "population": 331002647
        },
        {
         "location": "United States",
         "new_cases": 34272,
         "population": 331002647
        },
        {
         "location": "United States",
         "new_cases": 25398,
         "population": 331002647
        },
        {
         "location": "United States",
         "new_cases": 30561,
         "population": 331002647
        },
        {
         "location": "United States",
         "new_cases": 30613,
         "population": 331002647
        },
        {
         "location": "United States",
         "new_cases": 33323,
         "population": 331002647
        },
        {
         "location": "United States",
         "new_cases": 33901,
         "population": 331002647
        },
        {
         "location": "United States",
         "new_cases": 35527,
         "population": 331002647
        },
        {
         "location": "United States",
         "new_cases": 28391,
         "population": 331002647
        },
        {
         "location": "United States",
         "new_cases": 27620,
         "population": 331002647
        },
        {
         "location": "United States",
         "new_cases": 25023,
         "population": 331002647
        },
        {
         "location": "United States",
         "new_cases": 26922,
         "population": 331002647
        },
        {
         "location": "United States",
         "new_cases": 30148,
         "population": 331002647
        },
        {
         "location": "United States",
         "new_cases": 31667,
         "population": 331002647
        },
        {
         "location": "United States",
         "new_cases": 30833,
         "population": 331002647
        },
        {
         "location": "United States",
         "new_cases": 32922,
         "population": 331002647
        },
        {
         "location": "United States",
         "new_cases": 24601,
         "population": 331002647
        },
        {
         "location": "United States",
         "new_cases": 28065,
         "population": 331002647
        },
        {
         "location": "United States",
         "new_cases": 37289,
         "population": 331002647
        },
        {
         "location": "United States",
         "new_cases": 17588,
         "population": 331002647
        },
        {
         "location": "United States",
         "new_cases": 26543,
         "population": 331002647
        },
        {
         "location": "United States",
         "new_cases": 21352,
         "population": 331002647
        },
        {
         "location": "United States",
         "new_cases": 48529,
         "population": 331002647
        },
        {
         "location": "United States",
         "new_cases": 26857,
         "population": 331002647
        },
        {
         "location": "United States",
         "new_cases": 22541,
         "population": 331002647
        },
        {
         "location": "United States",
         "new_cases": 24132,
         "population": 331002647
        },
        {
         "location": "United States",
         "new_cases": 27326,
         "population": 331002647
        },
        {
         "location": "United States",
         "new_cases": 29917,
         "population": 331002647
        },
        {
         "location": "United States",
         "new_cases": 33955,
         "population": 331002647
        },
        {
         "location": "United States",
         "new_cases": 29288,
         "population": 331002647
        },
        {
         "location": "United States",
         "new_cases": 24972,
         "population": 331002647
        },
        {
         "location": "United States",
         "new_cases": 22593,
         "population": 331002647
        },
        {
         "location": "United States",
         "new_cases": 23841,
         "population": 331002647
        },
        {
         "location": "United States",
         "new_cases": 24128,
         "population": 331002647
        },
        {
         "location": "United States",
         "new_cases": 28369,
         "population": 331002647
        },
        {
         "location": "United States",
         "new_cases": 26957,
         "population": 331002647
        },
        {
         "location": "United States",
         "new_cases": 25612,
         "population": 331002647
        },
        {
         "location": "United States",
         "new_cases": 20258,
         "population": 331002647
        },
        {
         "location": "United States",
         "new_cases": 18117,
         "population": 331002647
        },
        {
         "location": "United States",
         "new_cases": 22048,
         "population": 331002647
        },
        {
         "location": "United States",
         "new_cases": 20782,
         "population": 331002647
        },
        {
         "location": "United States",
         "new_cases": 27143,
         "population": 331002647
        },
        {
         "location": "United States",
         "new_cases": 25508,
         "population": 331002647
        },
        {
         "location": "United States",
         "new_cases": 24487,
         "population": 331002647
        },
        {
         "location": "United States",
         "new_cases": 18873,
         "population": 331002647
        },
        {
         "location": "United States",
         "new_cases": 21841,
         "population": 331002647
        },
        {
         "location": "United States",
         "new_cases": 19970,
         "population": 331002647
        },
        {
         "location": "United States",
         "new_cases": 23285,
         "population": 331002647
        },
        {
         "location": "United States",
         "new_cases": 25434,
         "population": 331002647
        },
        {
         "location": "United States",
         "new_cases": 24147,
         "population": 331002647
        },
        {
         "location": "United States",
         "new_cases": 21236,
         "population": 331002647
        },
        {
         "location": "United States",
         "new_cases": 20568,
         "population": 331002647
        },
        {
         "location": "United States",
         "new_cases": 19064,
         "population": 331002647
        },
        {
         "location": "United States",
         "new_cases": 18910,
         "population": 331002647
        },
        {
         "location": "United States",
         "new_cases": 18721,
         "population": 331002647
        },
        {
         "location": "United States",
         "new_cases": 21817,
         "population": 331002647
        },
        {
         "location": "United States",
         "new_cases": 25337,
         "population": 331002647
        },
        {
         "location": "United States",
         "new_cases": 23297,
         "population": 331002647
        },
        {
         "location": "United States",
         "new_cases": 19807,
         "population": 331002647
        },
        {
         "location": "United States",
         "new_cases": 21086,
         "population": 331002647
        },
        {
         "location": "United States",
         "new_cases": 20544,
         "population": 331002647
        },
        {
         "location": "United States",
         "new_cases": 19699,
         "population": 331002647
        },
        {
         "location": "United States",
         "new_cases": 21140,
         "population": 331002647
        },
        {
         "location": "United States",
         "new_cases": 25178,
         "population": 331002647
        },
        {
         "location": "United States",
         "new_cases": 22223,
         "population": 331002647
        },
        {
         "location": "United States",
         "new_cases": 22302,
         "population": 331002647
        },
        {
         "location": "United States",
         "new_cases": 18822,
         "population": 331002647
        },
        {
         "location": "United States",
         "new_cases": 18665,
         "population": 331002647
        },
        {
         "location": "United States",
         "new_cases": 20614,
         "population": 331002647
        },
        {
         "location": "United States",
         "new_cases": 22883,
         "population": 331002647
        },
        {
         "location": "United States",
         "new_cases": 25639,
         "population": 331002647
        },
        {
         "location": "United States",
         "new_cases": 25540,
         "population": 331002647
        },
        {
         "location": "United States",
         "new_cases": 19543,
         "population": 331002647
        },
        {
         "location": "United States",
         "new_cases": 19957,
         "population": 331002647
        },
        {
         "location": "United States",
         "new_cases": 23705,
         "population": 331002647
        },
        {
         "location": "United States",
         "new_cases": 25559,
         "population": 331002647
        },
        {
         "location": "United States",
         "new_cases": 27762,
         "population": 331002647
        },
        {
         "location": "United States",
         "new_cases": 29909,
         "population": 331002647
        },
        {
         "location": "United States",
         "new_cases": 34158,
         "population": 331002647
        },
        {
         "location": "United States",
         "new_cases": 25793,
         "population": 331002647
        },
        {
         "location": "United States",
         "new_cases": 31390,
         "population": 331002647
        },
        {
         "location": "United States",
         "new_cases": 34720,
         "population": 331002647
        },
        {
         "location": "United States",
         "new_cases": 34339,
         "population": 331002647
        },
        {
         "location": "United States",
         "new_cases": 40949,
         "population": 331002647
        },
        {
         "location": "United States",
         "new_cases": 45527,
         "population": 331002647
        },
        {
         "location": "United States",
         "new_cases": 42486,
         "population": 331002647
        },
        {
         "location": "United States",
         "new_cases": 38673,
         "population": 331002647
        },
        {
         "location": "United States",
         "new_cases": 41556,
         "population": 331002647
        },
        {
         "location": "United States",
         "new_cases": 43880,
         "population": 331002647
        },
        {
         "location": "United States",
         "new_cases": 52048,
         "population": 331002647
        },
        {
         "location": "United States",
         "new_cases": 53399,
         "population": 331002647
        },
        {
         "location": "United States",
         "new_cases": 54442,
         "population": 331002647
        },
        {
         "location": "United States",
         "new_cases": 45221,
         "population": 331002647
        },
        {
         "location": "United States",
         "new_cases": 49093,
         "population": 331002647
        },
        {
         "location": "United States",
         "new_cases": 49990,
         "population": 331002647
        },
        {
         "location": "United States",
         "new_cases": 57473,
         "population": 331002647
        },
        {
         "location": "United States",
         "new_cases": 58906,
         "population": 331002647
        },
        {
         "location": "United States",
         "new_cases": 63004,
         "population": 331002647
        },
        {
         "location": "United States",
         "new_cases": 66625,
         "population": 331002647
        },
        {
         "location": "United States",
         "new_cases": 63051,
         "population": 331002647
        },
        {
         "location": "United States",
         "new_cases": 57258,
         "population": 331002647
        },
        {
         "location": "United States",
         "new_cases": 58114,
         "population": 331002647
        },
        {
         "location": "United States",
         "new_cases": 68518,
         "population": 331002647
        },
        {
         "location": "United States",
         "new_cases": 67717,
         "population": 331002647
        },
        {
         "location": "United States",
         "new_cases": 76930,
         "population": 331002647
        },
        {
         "location": "United States",
         "new_cases": 71494,
         "population": 331002647
        },
        {
         "location": "United States",
         "new_cases": 63749,
         "population": 331002647
        },
        {
         "location": "United States",
         "new_cases": 61796,
         "population": 331002647
        },
        {
         "location": "United States",
         "new_cases": 56750,
         "population": 331002647
        },
        {
         "location": "United States",
         "new_cases": 72048,
         "population": 331002647
        },
        {
         "location": "United States",
         "new_cases": 68848,
         "population": 331002647
        },
        {
         "location": "United States",
         "new_cases": 63196,
         "population": 331002647
        },
        {
         "location": "United States",
         "new_cases": 78427,
         "population": 331002647
        },
        {
         "location": "United States",
         "new_cases": 65498,
         "population": 331002647
        },
        {
         "location": "United States",
         "new_cases": 55993,
         "population": 331002647
        },
        {
         "location": "United States",
         "new_cases": 56243,
         "population": 331002647
        },
        {
         "location": "United States",
         "new_cases": 61734,
         "population": 331002647
        },
        {
         "location": "United States",
         "new_cases": 74985,
         "population": 331002647
        },
        {
         "location": "United States",
         "new_cases": 68032,
         "population": 331002647
        },
        {
         "location": "United States",
         "new_cases": 67023,
         "population": 331002647
        },
        {
         "location": "United States",
         "new_cases": 58407,
         "population": 331002647
        },
        {
         "location": "United States",
         "new_cases": 47511,
         "population": 331002647
        },
        {
         "location": "United States",
         "new_cases": 45607,
         "population": 331002647
        },
        {
         "location": "United States",
         "new_cases": 57525,
         "population": 331002647
        },
        {
         "location": "United States",
         "new_cases": 52804,
         "population": 331002647
        },
        {
         "location": "United States",
         "new_cases": 59755,
         "population": 331002647
        },
        {
         "location": "United States",
         "new_cases": 58150,
         "population": 331002647
        },
        {
         "location": "United States",
         "new_cases": 56221,
         "population": 331002647
        },
        {
         "location": "United States",
         "new_cases": 46847,
         "population": 331002647
        },
        {
         "location": "United States",
         "new_cases": 49530,
         "population": 331002647
        },
        {
         "location": "United States",
         "new_cases": 46813,
         "population": 331002647
        },
        {
         "location": "United States",
         "new_cases": 55941,
         "population": 331002647
        },
        {
         "location": "United States",
         "new_cases": 51094,
         "population": 331002647
        },
        {
         "location": "United States",
         "new_cases": 64838,
         "population": 331002647
        },
        {
         "location": "United States",
         "new_cases": 48085,
         "population": 331002647
        },
        {
         "location": "United States",
         "new_cases": 42104,
         "population": 331002647
        },
        {
         "location": "United States",
         "new_cases": 35056,
         "population": 331002647
        },
        {
         "location": "United States",
         "new_cases": 44091,
         "population": 331002647
        },
        {
         "location": "United States",
         "new_cases": 47426,
         "population": 331002647
        },
        {
         "location": "United States",
         "new_cases": 44005,
         "population": 331002647
        },
        {
         "location": "United States",
         "new_cases": 49880,
         "population": 331002647
        },
        {
         "location": "United States",
         "new_cases": 44378,
         "population": 331002647
        },
        {
         "location": "United States",
         "new_cases": 34506,
         "population": 331002647
        },
        {
         "location": "United States",
         "new_cases": 38298,
         "population": 331002647
        },
        {
         "location": "United States",
         "new_cases": 38119,
         "population": 331002647
        },
        {
         "location": "United States",
         "new_cases": 42848,
         "population": 331002647
        },
        {
         "location": "United States",
         "new_cases": 45909,
         "population": 331002647
        },
        {
         "location": "United States",
         "new_cases": 49654,
         "population": 331002647
        },
        {
         "location": "United States",
         "new_cases": 44143,
         "population": 331002647
        },
        {
         "location": "United States",
         "new_cases": 35581,
         "population": 331002647
        },
        {
         "location": "United States",
         "new_cases": 33850,
         "population": 331002647
        },
        {
         "location": "United States",
         "new_cases": 44639,
         "population": 331002647
        },
        {
         "location": "United States",
         "new_cases": 38754,
         "population": 331002647
        },
        {
         "location": "United States",
         "new_cases": 36249,
         "population": 331002647
        },
        {
         "location": "United States",
         "new_cases": 51071,
         "population": 331002647
        },
        {
         "location": "United States",
         "new_cases": 44140,
         "population": 331002647
        },
        {
         "location": "United States",
         "new_cases": 30555,
         "population": 331002647
        },
        {
         "location": "United States",
         "new_cases": 24250,
         "population": 331002647
        },
        {
         "location": "United States",
         "new_cases": 27122,
         "population": 331002647
        },
        {
         "location": "United States",
         "new_cases": 31927,
         "population": 331002647
        },
        {
         "location": "United States",
         "new_cases": 37507,
         "population": 331002647
        },
        {
         "location": "United States",
         "new_cases": 48061,
         "population": 331002647
        },
        {
         "location": "United States",
         "new_cases": 40820,
         "population": 331002647
        },
        {
         "location": "United States",
         "new_cases": 33871,
         "population": 331002647
        },
        {
         "location": "United States",
         "new_cases": 34841,
         "population": 331002647
        },
        {
         "location": "United States",
         "new_cases": 51473,
         "population": 331002647
        },
        {
         "location": "United States",
         "new_cases": 24598,
         "population": 331002647
        },
        {
         "location": "United States",
         "new_cases": 43567,
         "population": 331002647
        },
        {
         "location": "United States",
         "new_cases": 50209,
         "population": 331002647
        },
        {
         "location": "United States",
         "new_cases": 40295,
         "population": 331002647
        },
        {
         "location": "United States",
         "new_cases": 39852,
         "population": 331002647
        },
        {
         "location": "United States",
         "new_cases": 53153,
         "population": 331002647
        },
        {
         "location": "United States",
         "new_cases": 38307,
         "population": 331002647
        },
        {
         "location": "United States",
         "new_cases": 37930,
         "population": 331002647
        },
        {
         "location": "United States",
         "new_cases": 44213,
         "population": 331002647
        },
        {
         "location": "United States",
         "new_cases": 55013,
         "population": 331002647
        },
        {
         "location": "United States",
         "new_cases": 45368,
         "population": 331002647
        },
        {
         "location": "United States",
         "new_cases": 36248,
         "population": 331002647
        },
        {
         "location": "United States",
         "new_cases": 32998,
         "population": 331002647
        },
        {
         "location": "United States",
         "new_cases": 43017,
         "population": 331002647
        },
        {
         "location": "United States",
         "new_cases": 41982,
         "population": 331002647
        },
        {
         "location": "United States",
         "new_cases": 44771,
         "population": 331002647
        },
        {
         "location": "United States",
         "new_cases": 54471,
         "population": 331002647
        },
        {
         "location": "United States",
         "new_cases": 50659,
         "population": 331002647
        },
        {
         "location": "United States",
         "new_cases": 34901,
         "population": 331002647
        },
        {
         "location": "United States",
         "new_cases": 40705,
         "population": 331002647
        },
        {
         "location": "United States",
         "new_cases": 43062,
         "population": 331002647
        },
        {
         "location": "United States",
         "new_cases": 48182,
         "population": 331002647
        },
        {
         "location": "United States",
         "new_cases": 56800,
         "population": 331002647
        },
        {
         "location": "United States",
         "new_cases": 58082,
         "population": 331002647
        },
        {
         "location": "United States",
         "new_cases": 54271,
         "population": 331002647
        },
        {
         "location": "United States",
         "new_cases": 43597,
         "population": 331002647
        },
        {
         "location": "United States",
         "new_cases": 41653,
         "population": 331002647
        },
        {
         "location": "United States",
         "new_cases": 52517,
         "population": 331002647
        },
        {
         "location": "United States",
         "new_cases": 59386,
         "population": 331002647
        },
        {
         "location": "United States",
         "new_cases": 63785,
         "population": 331002647
        },
        {
         "location": "United States",
         "new_cases": 70256,
         "population": 331002647
        },
        {
         "location": "United States",
         "new_cases": 56611,
         "population": 331002647
        },
        {
         "location": "United States",
         "new_cases": 47843,
         "population": 331002647
        },
        {
         "location": "United States",
         "new_cases": 60160,
         "population": 331002647
        },
        {
         "location": "United States",
         "new_cases": 58549,
         "population": 331002647
        },
        {
         "location": "United States",
         "new_cases": 62978,
         "population": 331002647
        },
        {
         "location": "United States",
         "new_cases": 72058,
         "population": 331002647
        },
        {
         "location": "United States",
         "new_cases": 85329,
         "population": 331002647
        },
        {
         "location": "United States",
         "new_cases": 83056,
         "population": 331002647
        },
        {
         "location": "United States",
         "new_cases": 59440,
         "population": 331002647
        },
        {
         "location": "United States",
         "new_cases": 68359,
         "population": 331002647
        },
        {
         "location": "United States",
         "new_cases": 75129,
         "population": 331002647
        },
        {
         "location": "United States",
         "new_cases": 78371,
         "population": 331002647
        },
        {
         "location": "United States",
         "new_cases": 88130,
         "population": 331002647
        },
        {
         "location": "United States",
         "new_cases": 101273,
         "population": 331002647
        },
        {
         "location": "United States",
         "new_cases": 78934,
         "population": 331002647
        },
        {
         "location": "United States",
         "new_cases": 81001,
         "population": 331002647
        },
        {
         "location": "United States",
         "new_cases": 83883,
         "population": 331002647
        },
        {
         "location": "United States",
         "new_cases": 92734,
         "population": 331002647
        },
        {
         "location": "United States",
         "new_cases": 102507,
         "population": 331002647
        },
        {
         "location": "United States",
         "new_cases": 122436,
         "population": 331002647
        },
        {
         "location": "United States",
         "new_cases": 130623,
         "population": 331002647
        },
        {
         "location": "United States",
         "new_cases": 121413,
         "population": 331002647
        },
        {
         "location": "United States",
         "new_cases": 110693,
         "population": 331002647
        },
        {
         "location": "United States",
         "new_cases": 138901,
         "population": 331002647
        },
        {
         "location": "United States",
         "new_cases": 147274,
         "population": 331002647
        },
        {
         "location": "United States",
         "new_cases": 143306,
         "population": 331002647
        },
        {
         "location": "United States",
         "new_cases": 153669,
         "population": 331002647
        },
        {
         "location": "United States",
         "new_cases": 184813,
         "population": 331002647
        },
        {
         "location": "United States",
         "new_cases": 165277,
         "population": 331002647
        },
        {
         "location": "United States",
         "new_cases": 132170,
         "population": 331002647
        },
        {
         "location": "United States",
         "new_cases": 168425,
         "population": 331002647
        },
        {
         "location": "United States",
         "new_cases": 154316,
         "population": 331002647
        },
        {
         "location": "United States",
         "new_cases": 170005,
         "population": 331002647
        },
        {
         "location": "United States",
         "new_cases": 188020,
         "population": 331002647
        },
        {
         "location": "United States",
         "new_cases": 196117,
         "population": 331002647
        },
        {
         "location": "United States",
         "new_cases": 175494,
         "population": 331002647
        },
        {
         "location": "United States",
         "new_cases": 157471,
         "population": 331002647
        },
        {
         "location": "United States",
         "new_cases": 173963,
         "population": 331002647
        },
        {
         "location": "United States",
         "new_cases": 170293,
         "population": 331002647
        },
        {
         "location": "United States",
         "new_cases": 186589,
         "population": 331002647
        },
        {
         "location": "United States",
         "new_cases": 106091,
         "population": 331002647
        },
        {
         "location": "United States",
         "new_cases": 207913,
         "population": 331002647
        },
        {
         "location": "United States",
         "new_cases": 154893,
         "population": 331002647
        }
       ],
       "schema": {
        "fields": [
         {
          "name": "location",
          "type": "string"
         },
         {
          "name": "population",
          "type": "integer"
         },
         {
          "name": "new_cases",
          "type": "number"
         }
        ]
       }
      },
      "text/html": [
       "<table><thead><tr><th>location</th><th>population</th><th>new_cases</th></tr></thead><tbody><tr><td>&quot;United States&quot;</td><td>331002647</td><td>0.0</td></tr><tr><td>&quot;United States&quot;</td><td>331002647</td><td>0.0</td></tr><tr><td>&quot;United States&quot;</td><td>331002647</td><td>0.0</td></tr><tr><td>&quot;United States&quot;</td><td>331002647</td><td>0.0</td></tr><tr><td>&quot;United States&quot;</td><td>331002647</td><td>0.0</td></tr><tr><td>&quot;United States&quot;</td><td>331002647</td><td>0.0</td></tr><tr><td>&quot;United States&quot;</td><td>331002647</td><td>0.0</td></tr><tr><td>&quot;United States&quot;</td><td>331002647</td><td>0.0</td></tr><tr><td>&quot;United States&quot;</td><td>331002647</td><td>0.0</td></tr><tr><td>&quot;United States&quot;</td><td>331002647</td><td>0.0</td></tr><tr><td>&vellip;</td><td>&vellip;</td><td>&vellip;</td></tr></tbody></table><p>... with more rows.</p>"
      ],
      "text/plain": [
       "?x3 query result\n",
       "location      │ population │ new_cases\n",
       "──────────────┼────────────┼──────────\n",
       "United States │ 331002647  │ 0.0      \n",
       "United States │ 331002647  │ 0.0      \n",
       "United States │ 331002647  │ 0.0      \n",
       "United States │ 331002647  │ 0.0      \n",
       "United States │ 331002647  │ 0.0      \n",
       "United States │ 331002647  │ 0.0      \n",
       "United States │ 331002647  │ 0.0      \n",
       "United States │ 331002647  │ 0.0      \n",
       "United States │ 331002647  │ 0.0      \n",
       "United States │ 331002647  │ 0.0      \n",
       "... with more rows"
      ]
     },
     "execution_count": 5,
     "metadata": {},
     "output_type": "execute_result"
    }
   ],
   "source": [
    "usa_cases = df |>\n",
    "            @select(:location, :population, :new_cases) |>\n",
    "            @filter(_.location == \"United States\")"
   ]
  },
  {
   "cell_type": "markdown",
   "metadata": {},
   "source": [
    "### Weight Statistics by Population"
   ]
  },
  {
   "cell_type": "code",
   "execution_count": 18,
   "metadata": {},
   "outputs": [],
   "source": [
    "using Statistics"
   ]
  },
  {
   "cell_type": "code",
   "execution_count": 23,
   "metadata": {},
   "outputs": [
    {
     "name": "stderr",
     "output_type": "stream",
     "text": [
      "┌ Info: Precompiling Chain [8be319e6-bccf-4806-a6f7-6fae938471bc]\n",
      "└ @ Base loading.jl:1278\n"
     ]
    }
   ],
   "source": [
    "using Chain"
   ]
  },
  {
   "cell_type": "code",
   "execution_count": 35,
   "metadata": {},
   "outputs": [
    {
     "data": {
      "text/plain": [
       "59283"
      ]
     },
     "execution_count": 35,
     "metadata": {},
     "output_type": "execute_result"
    }
   ],
   "source": [
    "completecases(df, :population) |> sum"
   ]
  },
  {
   "cell_type": "code",
   "execution_count": 44,
   "metadata": {},
   "outputs": [
    {
     "data": {
      "text/plain": [
       "809"
      ]
     },
     "execution_count": 44,
     "metadata": {},
     "output_type": "execute_result"
    }
   ],
   "source": [
    "max_pop = df.population |> skipmissing |> maximum\n",
    "min_pop = df.population |> skipmissing |> minimum"
   ]
  },
  {
   "cell_type": "code",
   "execution_count": 45,
   "metadata": {},
   "outputs": [
    {
     "data": {
      "text/plain": [
       "59354-element Array{Union{Missing, Float64},1}:\n",
       " 0.0050220089115559615\n",
       " 0.0050220089115559615\n",
       " 0.0050220089115559615\n",
       " 0.0050220089115559615\n",
       " 0.0050220089115559615\n",
       " 0.0050220089115559615\n",
       " 0.0050220089115559615\n",
       " 0.0050220089115559615\n",
       " 0.0050220089115559615\n",
       " 0.0050220089115559615\n",
       " 0.0050220089115559615\n",
       " 0.0050220089115559615\n",
       " 0.0050220089115559615\n",
       " ⋮\n",
       " 0.0019174141493932585\n",
       " 0.0019174141493932585\n",
       " 0.0019174141493932585\n",
       " 0.0019174141493932585\n",
       " 0.0019174141493932585\n",
       " 0.0019174141493932585\n",
       " 0.0019174141493932585\n",
       " 0.0019174141493932585\n",
       " 0.0019174141493932585\n",
       " 0.0019174141493932585\n",
       " 0.0019174141493932585\n",
       " 0.0019174141493932585"
      ]
     },
     "execution_count": 45,
     "metadata": {},
     "output_type": "execute_result"
    }
   ],
   "source": [
    "df.population ./ max_pop"
   ]
  },
  {
   "cell_type": "code",
   "execution_count": null,
   "metadata": {},
   "outputs": [],
   "source": []
  }
 ],
 "metadata": {
  "kernelspec": {
   "display_name": "Julia 1.5.0",
   "language": "julia",
   "name": "julia-1.5"
  },
  "language_info": {
   "file_extension": ".jl",
   "mimetype": "application/julia",
   "name": "julia",
   "version": "1.5.0"
  }
 },
 "nbformat": 4,
 "nbformat_minor": 4
}
